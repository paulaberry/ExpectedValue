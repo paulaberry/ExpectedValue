{
 "cells": [
  {
   "cell_type": "markdown",
   "id": "8eabf06f",
   "metadata": {},
   "source": [
    "# Expected Value Calculator\n",
    "How does one determine if a game of chance is likely to enrich someone who bets on it? The answer is the *expected value*. \n",
    "\n",
    ">Expected value ($EV$) is a predicted value of a variable, calculated as the sum of all possible values each multiplied by the probability of its occurrence.\n",
    "\n",
    "In betting, when the calculated $EV$ is positive, that means, in aggregate, you will profit when playing a game of chance. If the $EV$ is negative, you will most likely lose.\n",
    "\n",
    "There are many methods for calculating EV, but in this notebook I will focus on the appropriate method for calculating for how much one should sell a group of raffle tickets, given the value of the item being raffled.\n",
    "\n",
    "The rules of this scenario:\n",
    "\n",
    "* The person running the raffle can retain a certain percentage of the tickets. This is the probability ($P$) of a win.  ($P_{win} = 1-P_{loss}$)\n",
    "* There is a tax rate, $t$, levied on the total value of the tickets. ($t \\rightarrow [0,1]$) The total amount of tax is $T_{total}=tp$\n",
    "* The item price is any positive, non-zero number, $i$.\n",
    "* The *total* price of all tickets to be sold, $p$ is any positive, non-zero number. This includes the tickets retained by the raffle organizers.\n",
    "* The outcome, $O_{result}$, is the value of the raffle *given* a win ($O_{win}$, the winning ticket is retained by the organizers) or a loss ($O_{loss}$, the winning ticket was sold and redeemed.)\n",
    "\n",
    "$$O_{win} = (i + ((1-P_{win})(p))) - (i + (tp))$$\n",
    "\n",
    "$$O_{loss} = ((1-P_{win})(p)) - (i + (tp))$$\n",
    "\n",
    "$$EV = (O_{win}P_{win}) + (O_{loss}(1-P_{win}))$$\n",
    "\n"
   ]
  },
  {
   "cell_type": "code",
   "execution_count": 1,
   "id": "b9a8bc8c",
   "metadata": {
    "tags": [
     "hide-cell"
    ]
   },
   "outputs": [
    {
     "data": {
      "application/vnd.jupyter.widget-view+json": {
       "model_id": "ff9397ccd28a4a5ba5dea0e3c51110ba",
       "version_major": 2,
       "version_minor": 0
      },
      "text/plain": [
       "interactive(children=(FloatSlider(value=5.25, description='Tax Rate:', layout=Layout(width='500px'), step=0.01…"
      ]
     },
     "metadata": {},
     "output_type": "display_data"
    }
   ],
   "source": [
    "import ipywidgets as widgets\n",
    "from ipywidgets import interact\n",
    "from IPython.display import display\n",
    "\n",
    "@interact(t=widgets.FloatSlider(\n",
    "            value=5.25,\n",
    "            min=0,max=100,\n",
    "            step=0.01,\n",
    "            description='Tax Rate:',\n",
    "            disabled=False,\n",
    "            continuous_update=True,\n",
    "            orientation='horizontal',\n",
    "            readout=True,readout_format='.2f',\n",
    "            layout={'width': '500px'}),\n",
    "        i=widgets.FloatText(\n",
    "          value=50.00,\n",
    "          min=0,\n",
    "          description='Item Value:',\n",
    "          disabled=False),\n",
    "        m=widgets.FloatText(\n",
    "            value=25.00,\n",
    "            min=0,\n",
    "            max=None,\n",
    "            step=0.01,\n",
    "            description='% Markup:',\n",
    "            disabled=False),\n",
    "        w=widgets.FloatSlider(\n",
    "            value=60,\n",
    "            min=0,\n",
    "            max=100,\n",
    "            step=1,\n",
    "            description='% Tickets Held Back:',\n",
    "            disabled=False,\n",
    "            continuous_update=False,\n",
    "            orientation='horizontal',\n",
    "            readout=True,\n",
    "            readout_format='.0f',\n",
    "            layout={'width': '500px'})\n",
    ")\n",
    "\n",
    "def do(t=5.25, w=60, i=50, m=25):\n",
    "    print(\"Tax rate is:\", t,\"%\")\n",
    "    print(\"Item value is:\", i,\"¤\")\n",
    "    print(\"Markup is:\", m,\"%\")\n",
    "    print(\"Tickets witheld is:\",w,\"%\")\n",
    "    Pwin = w / 100\n",
    "    ticketsprice = (1 + (m / 100)) * i\n",
    "    ticketstax = ticketsprice * (t / 100)\n",
    "    OutcomeWin = (i + ((1-Pwin) * (ticketsprice))) - (i + (ticketstax))\n",
    "    OutcomeLoss = ((1-Pwin) * (ticketsprice)) - (i + ticketstax)\n",
    "    ExpectedValue = (OutcomeWin * Pwin) + (OutcomeLoss * (1-Pwin))\n",
    "    print(\"The expected value of the raffle is ¤\" + str(ExpectedValue), \" if the lot of tickets is sold for ¤\" + str(ticketsprice) + \" total.\")\n",
    "    "
   ]
  }
 ],
 "metadata": {
  "celltoolbar": "Tags",
  "kernelspec": {
   "display_name": "Python 3 (ipykernel)",
   "language": "python",
   "name": "python3"
  },
  "language_info": {
   "codemirror_mode": {
    "name": "ipython",
    "version": 3
   },
   "file_extension": ".py",
   "mimetype": "text/x-python",
   "name": "python",
   "nbconvert_exporter": "python",
   "pygments_lexer": "ipython3",
   "version": "3.8.11"
  },
  "widgets": {
   "application/vnd.jupyter.widget-state+json": {
    "state": {
     "06729afa7b724a3798a51ba998d28cc2": {
      "model_module": "@jupyter-widgets/controls",
      "model_module_version": "1.5.0",
      "model_name": "DescriptionStyleModel",
      "state": {
       "description_width": ""
      }
     },
     "0d3f04f3e4914c118253c83f7a5375c3": {
      "model_module": "@jupyter-widgets/controls",
      "model_module_version": "1.5.0",
      "model_name": "SliderStyleModel",
      "state": {
       "description_width": ""
      }
     },
     "0f45890ea9bc4bd381c0b07d01f5dc86": {
      "model_module": "@jupyter-widgets/controls",
      "model_module_version": "1.5.0",
      "model_name": "FloatSliderModel",
      "state": {
       "description": "Tax Rate:",
       "layout": "IPY_MODEL_1ccfc68b13324014baf60ab58fe65dec",
       "step": 0.01,
       "style": "IPY_MODEL_0d3f04f3e4914c118253c83f7a5375c3",
       "value": 5.25
      }
     },
     "1ccfc68b13324014baf60ab58fe65dec": {
      "model_module": "@jupyter-widgets/base",
      "model_module_version": "1.2.0",
      "model_name": "LayoutModel",
      "state": {
       "width": "500px"
      }
     },
     "21497e26af6c4cce851a4791f44cd890": {
      "model_module": "@jupyter-widgets/controls",
      "model_module_version": "1.5.0",
      "model_name": "FloatTextModel",
      "state": {
       "description": "Item Value:",
       "layout": "IPY_MODEL_63d8b5067b7a4c6eb86e2eeb897ac263",
       "step": null,
       "style": "IPY_MODEL_06729afa7b724a3798a51ba998d28cc2",
       "value": 50
      }
     },
     "36e4bf9ce4b14f0289d7e275ea8d9395": {
      "model_module": "@jupyter-widgets/base",
      "model_module_version": "1.2.0",
      "model_name": "LayoutModel",
      "state": {
       "width": "500px"
      }
     },
     "4bbb671c46fe442ca0804e8beb89f2dd": {
      "model_module": "@jupyter-widgets/controls",
      "model_module_version": "1.5.0",
      "model_name": "FloatTextModel",
      "state": {
       "description": "% Markup:",
       "layout": "IPY_MODEL_da2fe125ca5a46c5a95c936a1d6fb4bd",
       "step": 0.01,
       "style": "IPY_MODEL_abf2768820a549a283b0f2aa6fb87c68",
       "value": 25
      }
     },
     "50081d694bb94161852f114fa58dafe1": {
      "model_module": "@jupyter-widgets/controls",
      "model_module_version": "1.5.0",
      "model_name": "SliderStyleModel",
      "state": {
       "description_width": ""
      }
     },
     "63d8b5067b7a4c6eb86e2eeb897ac263": {
      "model_module": "@jupyter-widgets/base",
      "model_module_version": "1.2.0",
      "model_name": "LayoutModel",
      "state": {}
     },
     "84eb7cae25f34b6c95517cb531787db0": {
      "model_module": "@jupyter-widgets/controls",
      "model_module_version": "1.5.0",
      "model_name": "FloatSliderModel",
      "state": {
       "continuous_update": false,
       "description": "% Tickets Held Back:",
       "layout": "IPY_MODEL_36e4bf9ce4b14f0289d7e275ea8d9395",
       "readout_format": ".0f",
       "style": "IPY_MODEL_50081d694bb94161852f114fa58dafe1",
       "value": 60
      }
     },
     "9f1b6a53ad5a4f49a176dc21c85c3d71": {
      "model_module": "@jupyter-widgets/base",
      "model_module_version": "1.2.0",
      "model_name": "LayoutModel",
      "state": {}
     },
     "9ff36a9b110049168647261246849cf9": {
      "model_module": "@jupyter-widgets/base",
      "model_module_version": "1.2.0",
      "model_name": "LayoutModel",
      "state": {}
     },
     "abf2768820a549a283b0f2aa6fb87c68": {
      "model_module": "@jupyter-widgets/controls",
      "model_module_version": "1.5.0",
      "model_name": "DescriptionStyleModel",
      "state": {
       "description_width": ""
      }
     },
     "c2d4a1e3febf4dedaf15512029d2fdb9": {
      "model_module": "@jupyter-widgets/output",
      "model_module_version": "1.0.0",
      "model_name": "OutputModel",
      "state": {
       "layout": "IPY_MODEL_9f1b6a53ad5a4f49a176dc21c85c3d71",
       "outputs": [
        {
         "name": "stdout",
         "output_type": "stream",
         "text": "Tax rate is: 5.25 %\nItem value is: 50.0 ¤\nMarkup is: 25.0 %\nTickets witheld is: 60.0 %\nThe expected value of the raffle is ¤1.71875  if the lot of tickets is sold for ¤62.5 total.\n"
        }
       ]
      }
     },
     "da2fe125ca5a46c5a95c936a1d6fb4bd": {
      "model_module": "@jupyter-widgets/base",
      "model_module_version": "1.2.0",
      "model_name": "LayoutModel",
      "state": {}
     },
     "ff9397ccd28a4a5ba5dea0e3c51110ba": {
      "model_module": "@jupyter-widgets/controls",
      "model_module_version": "1.5.0",
      "model_name": "VBoxModel",
      "state": {
       "_dom_classes": [
        "widget-interact"
       ],
       "children": [
        "IPY_MODEL_0f45890ea9bc4bd381c0b07d01f5dc86",
        "IPY_MODEL_84eb7cae25f34b6c95517cb531787db0",
        "IPY_MODEL_21497e26af6c4cce851a4791f44cd890",
        "IPY_MODEL_4bbb671c46fe442ca0804e8beb89f2dd",
        "IPY_MODEL_c2d4a1e3febf4dedaf15512029d2fdb9"
       ],
       "layout": "IPY_MODEL_9ff36a9b110049168647261246849cf9"
      }
     }
    },
    "version_major": 2,
    "version_minor": 0
   }
  }
 },
 "nbformat": 4,
 "nbformat_minor": 5
}
