{
 "cells": [
  {
   "cell_type": "markdown",
   "id": "8eabf06f",
   "metadata": {},
   "source": [
    "# Expected Value Calculator\n",
    "How does one determine if a game of chance is likely to enrich someone who bets on it? The answer is the *expected value*. \n",
    "\n",
    ">Expected value ($EV$) is a predicted value of a variable, calculated as the sum of all possible values each multiplied by the probability of its occurrence.\n",
    "\n",
    "In betting, when the calculated $EV$ is positive, that means, in aggregate, you will profit when playing a game of chance. If the $EV$ is negative, you will most likely lose.\n",
    "\n",
    "There are many methods for calculating EV, but in this notebook I will focus on the appropriate method for calculating for how much one should sell a group of raffle tickets, given the value of the item being raffled.\n",
    "\n",
    "The rules of this scenario:\n",
    "\n",
    "* The person running the raffle can retain a certain percentage of the tickets. This is the probability ($P$) of a win.  ($P_{win} = 1-P_{loss}$)\n",
    "* There is a tax rate, $t$, levied on the total value of the tickets. ($t \\rightarrow [0,1]$) The total amount of tax is $T_{total}=tp$\n",
    "* The item price is any positive, non-zero number, $i$.\n",
    "* The *total* price of all tickets to be sold, $p$ is any positive, non-zero number. This includes the tickets retained by the raffle organizers.\n",
    "* The outcome, $O_{result}$, is the value of the raffle *given* a win ($O_{win}$, the winning ticket is retained by the organizers) or a loss ($O_{loss}$, the winning ticket was sold and redeemed.)\n",
    "\n",
    "$$O_{win} = (i + ((1-P_{win})(p))) - (i + (tp))$$\n",
    "\n",
    "$$O_{loss} = ((1-P_{win})(p)) - (i + (tp))$$\n",
    "\n",
    "$$EV = (O_{win}P_{win}) + (O_{loss}(1-P_{win}))$$\n",
    "\n"
   ]
  },
  {
   "cell_type": "code",
   "execution_count": 31,
   "id": "dd81732c",
   "metadata": {
    "tags": [
     "hide-cell"
    ]
   },
   "outputs": [
    {
     "data": {
      "application/vnd.jupyter.widget-view+json": {
       "model_id": "b86d5f0bae9e472e87bdad567f794c01",
       "version_major": 2,
       "version_minor": 0
      },
      "text/plain": [
       "FloatSlider(value=0.25, description='Tax rate:', max=1.0, readout_format='.3f', step=0.001)"
      ]
     },
     "metadata": {},
     "output_type": "display_data"
    },
    {
     "data": {
      "application/vnd.jupyter.widget-view+json": {
       "model_id": "2146ffe876594f22b45ba26d0ae56aa6",
       "version_major": 2,
       "version_minor": 0
      },
      "text/plain": [
       "FloatSlider(value=60.0, description='% tickets held:', step=1.0)"
      ]
     },
     "metadata": {},
     "output_type": "display_data"
    },
    {
     "data": {
      "application/vnd.jupyter.widget-view+json": {
       "model_id": "a2d3aced80e84edb83a049b3bd71e17b",
       "version_major": 2,
       "version_minor": 0
      },
      "text/plain": [
       "FloatText(value=7.5, description='item value:', step=0.1)"
      ]
     },
     "metadata": {},
     "output_type": "display_data"
    }
   ],
   "source": [
    "\n",
    "import ipywidgets as widgets\n",
    "from IPython.display import display\n",
    "t = widgets.FloatSlider(\n",
    "    value=0.25,\n",
    "    min=0,\n",
    "    max=1,\n",
    "    step=0.001,\n",
    "    description='Tax rate:',\n",
    "    disabled=False,\n",
    "    continuous_update=True,\n",
    "    orientation='horizontal',\n",
    "    readout=True,\n",
    "    readout_format='.3f',\n",
    ")\n",
    "\n",
    "w = widgets.FloatSlider(\n",
    "    value=60,\n",
    "    min=0,\n",
    "    max=100,\n",
    "    step=1,\n",
    "    description='% tickets held:',\n",
    "    disabled=False,\n",
    "    continuous_update=True,\n",
    "    orientation='horizontal',\n",
    "    readout=True,\n",
    "    readout_format='.2f',\n",
    ")\n",
    "\n",
    "i = widgets.FloatText(\n",
    "    value=7.5,\n",
    "    min=0,\n",
    "    max=None,\n",
    "    step=0.01,\n",
    "    description='item value:',\n",
    "    disabled=False\n",
    ")\n",
    "\n",
    "display(i) #item value box\n",
    "display(t) #tax rate slider\n",
    "display(w) #percent tickets withheld\n",
    "\n"
   ]
  },
  {
   "cell_type": "code",
   "execution_count": 32,
   "id": "630c5f00",
   "metadata": {},
   "outputs": [
    {
     "name": "stdout",
     "output_type": "stream",
     "text": [
      "0.25\n",
      "1000000000.0\n"
     ]
    }
   ],
   "source": [
    "print(t.value)\n",
    "print(i.value)"
   ]
  }
 ],
 "metadata": {
  "celltoolbar": "Tags",
  "kernelspec": {
   "display_name": "Python 3",
   "language": "python",
   "name": "python3"
  },
  "language_info": {
   "codemirror_mode": {
    "name": "ipython",
    "version": 3
   },
   "file_extension": ".py",
   "mimetype": "text/x-python",
   "name": "python",
   "nbconvert_exporter": "python",
   "pygments_lexer": "ipython3",
   "version": "3.8.8"
  }
 },
 "nbformat": 4,
 "nbformat_minor": 5
}
