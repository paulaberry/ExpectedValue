{
 "cells": [
  {
   "cell_type": "markdown",
   "id": "8eabf06f",
   "metadata": {},
   "source": [
    "# Expected Value Calculator\n",
    "How does one determine if a game of chance is likely to enrich someone who bets on it? The answer is the *expected value*. \n",
    "\n",
    ">Expected value ($EV$) is a predicted value of a variable, calculated as the sum of all possible values each multiplied by the probability of its occurrence.\n",
    "\n",
    "In betting, when the calculated $EV$ is positive, that means, in aggregate, you will profit when playing a game of chance. If the $EV$ is negative, you will most likely lose.\n",
    "\n",
    "There are many methods for calculating EV, but in this notebook I will focus on the appropriate method for calculating for how much one should sell a group of raffle tickets, given the value of the item being raffled.\n",
    "\n",
    "The rules of this scenario:\n",
    "\n",
    "* The person running the raffle can retain a certain percentage of the tickets. This is the probability ($P$) of a win.  ($P_{win} = 1-P_{loss}$)\n",
    "* There is a tax rate, $t$, levied on the total value of the tickets. ($t \\rightarrow [0,1]$) The total amount of tax is $T_{total}=tp$\n",
    "* The item price is any positive, non-zero number, $i$.\n",
    "* The *total* price of all tickets to be sold, $p$ is any positive, non-zero number. This includes the tickets retained by the raffle organizers.\n",
    "* The outcome, $O_{result}$, is the value of the raffle *given* a win ($O_{win}$, the winning ticket is retained by the organizers) or a loss ($O_{loss}$, the winning ticket was sold and redeemed.)\n",
    "\n",
    "$$O_{win} = (i + ((1-P_{win})(p))) - (i + (tp))$$\n",
    "\n",
    "$$O_{loss} = ((1-P_{win})(p)) - (i + (tp))$$\n",
    "\n",
    "$$EV = (O_{win}P_{win}) + (O_{loss}(1-P_{win}))$$\n",
    "\n"
   ]
  },
  {
   "cell_type": "code",
   "execution_count": 1,
   "id": "b9a8bc8c",
   "metadata": {
    "tags": [
     "hide-cell"
    ]
   },
   "outputs": [
    {
     "data": {
      "application/vnd.jupyter.widget-view+json": {
       "model_id": "1d5324673c2f4e1894167258e76dcbdd",
       "version_major": 2,
       "version_minor": 0
      },
      "text/plain": [
       "interactive(children=(FloatSlider(value=5.25, description='Tax Rate:', layout=Layout(width='500px'), step=0.01…"
      ]
     },
     "metadata": {},
     "output_type": "display_data"
    }
   ],
   "source": [
    "import ipywidgets as widgets\n",
    "from ipywidgets import interact\n",
    "from IPython.display import display\n",
    "\n",
    "@interact(t=widgets.FloatSlider(\n",
    "            value=5.25,\n",
    "            min=0,max=100,\n",
    "            step=0.01,\n",
    "            description='Tax Rate:',\n",
    "            disabled=False,\n",
    "            continuous_update=True,\n",
    "            orientation='horizontal',\n",
    "            readout=True,readout_format='.2f',\n",
    "            layout={'width': '500px'}),\n",
    "        i=widgets.FloatText(\n",
    "          value=50.00,\n",
    "          min=0,\n",
    "          description='Item Value:',\n",
    "          disabled=False),\n",
    "        m=widgets.FloatText(\n",
    "            value=125.00,\n",
    "            min=0,\n",
    "            max=None,\n",
    "            step=0.01,\n",
    "            description='% Markup:',\n",
    "            disabled=False),\n",
    "        w=widgets.FloatSlider(\n",
    "            value=60,\n",
    "            min=0,\n",
    "            max=100,\n",
    "            step=1,\n",
    "            description='% Tickets Held Back:',\n",
    "            disabled=False,\n",
    "            continuous_update=False,\n",
    "            orientation='horizontal',\n",
    "            readout=True,\n",
    "            readout_format='.0f',\n",
    "            layout={'width': '500px'})\n",
    ")\n",
    "\n",
    "def do(t=5.25, w=60, i=50, m=125):\n",
    "    print(\"Tax rate is:\", t,\"%\")\n",
    "    print(\"Item value is:\", i,\"¤\")\n",
    "    print(\"Markup is:\", m,\"%\")\n",
    "    print(\"Tickets witheld is:\",w,\"%\")\n",
    "    Pwin = w / 100\n",
    "    ticketsprice = (1 + (m / 100)) * i\n",
    "    ticketstax = ticketsprice * (t / 100)\n",
    "    OutcomeWin = (i + ((1-Pwin) * (ticketsprice))) - (i + (ticketstax))\n",
    "    OutcomeLoss = ((1-Pwin) * (ticketsprice)) - (i + ticketstax)\n",
    "    ExpectedValue = (OutcomeWin * Pwin) + (OutcomeLoss * (1-Pwin))\n",
    "    print(\"The expected value of the raffle is \" + str(ExpectedValue) + \"¤\")\n",
    "    "
   ]
  },
  {
   "cell_type": "code",
   "execution_count": null,
   "id": "58195d43",
   "metadata": {},
   "outputs": [],
   "source": []
  }
 ],
 "metadata": {
  "celltoolbar": "Tags",
  "kernelspec": {
   "display_name": "Python 3 (ipykernel)",
   "language": "python",
   "name": "python3"
  },
  "language_info": {
   "codemirror_mode": {
    "name": "ipython",
    "version": 3
   },
   "file_extension": ".py",
   "mimetype": "text/x-python",
   "name": "python",
   "nbconvert_exporter": "python",
   "pygments_lexer": "ipython3",
   "version": "3.8.11"
  }
 },
 "nbformat": 4,
 "nbformat_minor": 5
}
